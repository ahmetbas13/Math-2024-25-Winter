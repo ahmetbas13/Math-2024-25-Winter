{
  "cells": [
    {
      "cell_type": "markdown",
      "metadata": {
        "id": "nigVlsmAt2K2"
      },
      "source": [
        "# School Method for Solving Systems of Linear Equations"
      ]
    },
    {
      "cell_type": "code",
      "execution_count": 1,
      "metadata": {
        "id": "LAgrKVTdt2K3"
      },
      "outputs": [],
      "source": [
        "import sympy as sp\n",
        "from sympy import symbols, Eq, expand, solve\n",
        "\n",
        "class EnhancedEq(Eq):\n",
        "    def __add__(self, other):\n",
        "        return EnhancedEq(self.lhs + other.lhs, self.rhs + other.rhs)\n",
        "\n",
        "    def __sub__(self, other):\n",
        "        return EnhancedEq(self.lhs - other.lhs, self.rhs - other.rhs)\n",
        "\n",
        "    def __mul__(self, scalar):\n",
        "        return EnhancedEq(scalar * self.lhs, scalar * self.rhs)\n",
        "\n",
        "    def __rmul__(self, scalar):\n",
        "        return self.__mul__(scalar)\n",
        "\n",
        "    def simplify(self):\n",
        "        return EnhancedEq(expand(self.lhs), expand(self.rhs))\n",
        "\n",
        "    def substitute(self, *args, **kwargs):\n",
        "        return EnhancedEq(self.lhs.subs(*args, **kwargs), self.rhs.subs(*args, **kwargs))\n",
        "\n",
        "    def solve_for(self, symbol):\n",
        "        return solve(self, symbol)\n",
        "\n",
        "# Example usage:\n",
        "x, y = symbols('x y')\n",
        "\n",
        "# Define equations\n",
        "eq1 = EnhancedEq(2*x + y, 5)\n",
        "eq2 = EnhancedEq(x - y, 1)"
      ]
    },
    {
      "cell_type": "code",
      "execution_count": 2,
      "metadata": {
        "id": "KMTw-TG_t2K5",
        "outputId": "9eb6f35a-e9f8-4c6f-c4f5-44dc0eb2cc76",
        "colab": {
          "base_uri": "https://localhost:8080/",
          "height": 56
        }
      },
      "outputs": [
        {
          "output_type": "stream",
          "name": "stdout",
          "text": [
            "First equation:\n"
          ]
        },
        {
          "output_type": "execute_result",
          "data": {
            "text/plain": [
              "Eq(2*x + y, 5)"
            ],
            "text/latex": "$\\displaystyle 2 x + y = 5$"
          },
          "metadata": {},
          "execution_count": 2
        }
      ],
      "source": [
        "print(\"First equation:\")\n",
        "eq1"
      ]
    },
    {
      "cell_type": "code",
      "execution_count": 3,
      "metadata": {
        "id": "ZNzbdN5Xt2K5",
        "outputId": "eefc2119-bc4a-4ac9-d041-1682c4e17a00",
        "colab": {
          "base_uri": "https://localhost:8080/",
          "height": 56
        }
      },
      "outputs": [
        {
          "output_type": "stream",
          "name": "stdout",
          "text": [
            "Second equation:\n"
          ]
        },
        {
          "output_type": "execute_result",
          "data": {
            "text/plain": [
              "Eq(x - y, 1)"
            ],
            "text/latex": "$\\displaystyle x - y = 1$"
          },
          "metadata": {},
          "execution_count": 3
        }
      ],
      "source": [
        "print(\"Second equation:\")\n",
        "eq2"
      ]
    },
    {
      "cell_type": "code",
      "execution_count": 4,
      "metadata": {
        "id": "8KbXWJubt2K6",
        "outputId": "19d32b1d-9734-4c72-bfe0-a2f7c49681e9",
        "colab": {
          "base_uri": "https://localhost:8080/",
          "height": 38
        }
      },
      "outputs": [
        {
          "output_type": "execute_result",
          "data": {
            "text/plain": [
              "Eq(3*x, 6)"
            ],
            "text/latex": "$\\displaystyle 3 x = 6$"
          },
          "metadata": {},
          "execution_count": 4
        }
      ],
      "source": [
        "# Add the equations\n",
        "eq3 = eq1 + eq2\n",
        "eq3"
      ]
    },
    {
      "cell_type": "code",
      "execution_count": 5,
      "metadata": {
        "id": "Bmfuxx_9t2K6",
        "outputId": "e58a1c08-1791-4807-8c85-cd53a4839759",
        "colab": {
          "base_uri": "https://localhost:8080/",
          "height": 37
        }
      },
      "outputs": [
        {
          "output_type": "execute_result",
          "data": {
            "text/plain": [
              "2"
            ],
            "text/latex": "$\\displaystyle 2$"
          },
          "metadata": {},
          "execution_count": 5
        }
      ],
      "source": [
        "# We have an equation with one unknown, so we can solve it\n",
        "sol_x = eq3.solve_for(x)[0]\n",
        "sol_x"
      ]
    },
    {
      "cell_type": "code",
      "execution_count": 6,
      "metadata": {
        "id": "Z6IeNk4Yt2K6",
        "outputId": "afe231c0-23c3-4a53-e95f-0b7d83f75e58",
        "colab": {
          "base_uri": "https://localhost:8080/",
          "height": 38
        }
      },
      "outputs": [
        {
          "output_type": "execute_result",
          "data": {
            "text/plain": [
              "Eq(2 - y, 1)"
            ],
            "text/latex": "$\\displaystyle 2 - y = 1$"
          },
          "metadata": {},
          "execution_count": 6
        }
      ],
      "source": [
        "# Substitute the solution into equation 2\n",
        "eq2 = eq2.substitute(x, sol_x)\n",
        "eq2"
      ]
    },
    {
      "cell_type": "code",
      "execution_count": 7,
      "metadata": {
        "id": "pPgvoPpMt2K6",
        "outputId": "d832ffa0-9336-41a0-fb0f-1d7f8dd4e1c0",
        "colab": {
          "base_uri": "https://localhost:8080/",
          "height": 37
        }
      },
      "outputs": [
        {
          "output_type": "execute_result",
          "data": {
            "text/plain": [
              "1"
            ],
            "text/latex": "$\\displaystyle 1$"
          },
          "metadata": {},
          "execution_count": 7
        }
      ],
      "source": [
        "# We get an equation with one unknown, so we can solve it\n",
        "eq2.solve_for(y)[0]"
      ]
    },
    {
      "cell_type": "code",
      "execution_count": 8,
      "metadata": {
        "id": "FftJfGBQt2K6",
        "outputId": "743b9317-09c3-43b0-ae7f-88ec7f6ca5f1",
        "colab": {
          "base_uri": "https://localhost:8080/"
        }
      },
      "outputs": [
        {
          "output_type": "execute_result",
          "data": {
            "text/plain": [
              "{x: 2, y: 1}"
            ]
          },
          "metadata": {},
          "execution_count": 8
        }
      ],
      "source": [
        "# Thus x=2, y=1\n",
        "# Verify with sympy\n",
        "sp.solve([eq1, eq2])"
      ]
    },
    {
      "cell_type": "markdown",
      "metadata": {
        "id": "svIwQcK5t2K6"
      },
      "source": [
        "---\n",
        "\n",
        "### Exercises for Students\n",
        "\n",
        "Solve the following systems of equations similarly to the example above:\n",
        "\n",
        "* $3x-2y=5, \\quad 2x+3y=7$,\n",
        "* $2x-3y=10, \\quad 4x+5y=20$,\n",
        "* $2x - y + z = 3, \\quad x + 2y - z = 1, \\quad 3x - y + 2z = 11$.\n",
        "* $2x-3y+4z+2t=2, \\quad 3x+2y-5z+3t=3, \\quad 4x-3y+2z-5t=4, \\quad 5x+4y-3z+2t=5$."
      ]
    },
    {
      "cell_type": "code",
      "source": [
        "import numpy as np\n",
        "\n",
        "# Define and solve the first system of equations\n",
        "# 3x - 2y = 5, 2x + 3y = 7\n",
        "A1 = np.array([[3, -2], [2, 3]])\n",
        "b1 = np.array([5, 7])\n",
        "solution1 = np.linalg.solve(A1, b1)\n",
        "print(\"Solution to the first system:\")\n",
        "print(f\"x = {solution1[0]:.2f}, y = {solution1[1]:.2f}\")\n",
        "\n",
        "# Define and solve the second system of equations\n",
        "# 2x - 3y = 10, 4x + 5y = 20\n",
        "A2 = np.array([[2, -3], [4, 5]])\n",
        "b2 = np.array([10, 20])\n",
        "solution2 = np.linalg.solve(A2, b2)\n",
        "print(\"\\nSolution to the second system:\")\n",
        "print(f\"x = {solution2[0]:.2f}, y = {solution2[1]:.2f}\")\n",
        "\n",
        "# Define and solve the third system of equations\n",
        "# 2x - y + z = 3, x + 2y - z = 1, 3x - y + 2z = 11\n",
        "A3 = np.array([[2, -1, 1], [1, 2, -1], [3, -1, 2]])\n",
        "b3 = np.array([3, 1, 11])\n",
        "solution3 = np.linalg.solve(A3, b3)\n",
        "print(\"\\nSolution to the third system:\")\n",
        "print(f\"x = {solution3[0]:.2f}, y = {solution3[1]:.2f}, z = {solution3[2]:.2f}\")\n",
        "\n",
        "# Define and solve the fourth system of equations\n",
        "# 2x - 3y + 4z + 2t = 2, 3x + 2y - 5z + 3t = 3, 4x - 3y + 2z - 5t = 4, 5x + 4y - 3z + 2t = 5\n",
        "A4 = np.array([[2, -3, 4, 2], [3, 2, -5, 3], [4, -3, 2, -5], [5, 4, -3, 2]])\n",
        "b4 = np.array([2, 3, 4, 5])\n",
        "solution4 = np.linalg.solve(A4, b4)\n",
        "print(\"\\nSolution to the fourth system:\")\n",
        "print(f\"x = {solution4[0]:.2f}, y = {solution4[1]:.2f}, z = {solution4[2]:.2f}, t = {solution4[3]:.2f}\")\n"
      ],
      "metadata": {
        "id": "lgoAv1MQt5R9",
        "outputId": "d60706ee-58b9-4b18-bce8-fb85defb0ad7",
        "colab": {
          "base_uri": "https://localhost:8080/"
        }
      },
      "execution_count": 9,
      "outputs": [
        {
          "output_type": "stream",
          "name": "stdout",
          "text": [
            "Solution to the first system:\n",
            "x = 2.23, y = 0.85\n",
            "\n",
            "Solution to the second system:\n",
            "x = 5.00, y = -0.00\n",
            "\n",
            "Solution to the third system:\n",
            "x = -0.25, y = 4.75, z = 8.25\n",
            "\n",
            "Solution to the fourth system:\n",
            "x = 1.00, y = 0.00, z = 0.00, t = -0.00\n"
          ]
        }
      ]
    }
  ],
  "metadata": {
    "kernelspec": {
      "display_name": "Python 3",
      "language": "python",
      "name": "python3"
    },
    "language_info": {
      "codemirror_mode": {
        "name": "ipython",
        "version": 3
      },
      "file_extension": ".py",
      "mimetype": "text/x-python",
      "name": "python",
      "nbconvert_exporter": "python",
      "pygments_lexer": "ipython3",
      "version": "3.11.9"
    },
    "colab": {
      "provenance": []
    }
  },
  "nbformat": 4,
  "nbformat_minor": 0
}